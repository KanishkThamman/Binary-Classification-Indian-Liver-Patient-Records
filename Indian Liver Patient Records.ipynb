{
 "cells": [
  {
   "cell_type": "code",
   "execution_count": 3,
   "metadata": {},
   "outputs": [
    {
     "name": "stdout",
     "output_type": "stream",
     "text": [
      "Dataset URL: https://www.kaggle.com/datasets/uciml/indian-liver-patient-records\n",
      "License(s): CC0-1.0\n",
      "Downloading indian-liver-patient-records.zip to .\n",
      "\n"
     ]
    },
    {
     "name": "stderr",
     "output_type": "stream",
     "text": [
      "\n",
      "  0%|          | 0.00/7.68k [00:00<?, ?B/s]\n",
      "100%|██████████| 7.68k/7.68k [00:00<00:00, 2.56MB/s]\n"
     ]
    }
   ],
   "source": [
    "# download dataset from kaggle, makesure to have kaggle.json in ~/.kaggle\n",
    "! kaggle datasets download uciml/indian-liver-patient-records --unzip --w"
   ]
  }
 ],
 "metadata": {
  "kernelspec": {
   "display_name": "Python 3",
   "language": "python",
   "name": "python3"
  },
  "language_info": {
   "codemirror_mode": {
    "name": "ipython",
    "version": 3
   },
   "file_extension": ".py",
   "mimetype": "text/x-python",
   "name": "python",
   "nbconvert_exporter": "python",
   "pygments_lexer": "ipython3",
   "version": "3.11.3"
  }
 },
 "nbformat": 4,
 "nbformat_minor": 2
}
